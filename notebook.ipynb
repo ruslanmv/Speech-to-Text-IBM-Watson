{
 "cells": [
  {
   "cell_type": "code",
   "execution_count": 14,
   "id": "8746d5c2-9a51-4b82-9305-0e6e285ff996",
   "metadata": {},
   "outputs": [
    {
     "name": "stdout",
     "output_type": "stream",
     "text": [
      "hi everyone and welcome to the what's the next challenge developed by the third Janice Y. X. enjoy team composed of people from IBM T. last I mean kind innovation center and IBM so I kindly ask Michael to describe what the team is now thanks thank you hi everybody what we need there is a talk about that in which IBM the commission can ask a little maintenance DVDs on our technology we deliver the solution was using what's on our system what's on these quality and what's on X. the lady I  the chapel to assist with the implementation giving that I contracted a question  now who's on the stage is your son to give that contract these days and to shore them over the top  hello everyone we are going to show and damage of the integration of what's in the C. stint with what cynics through Watson discovery in these things the child borderlands for technical question using the documentation of the ABN star next D. S. eight thousand the disk on the line  happening the Watson assistant we see three different options answer with Watson Nick's answer with Watson discovery and and serve with search in China let's speak the first option  here in the bottom will ask insert the question does we make our question  the child bought connects with Watson discovery and retrieve their eleven data regarding to the question  and it's shown in the dialogue  after dot  the data is another I sit by the nobility I Watson the X. integration and the results are printed  next the chatbot will request us if we need anything else  I want additional information about another topic but now using Watson discovery on the I. type the question  here  you can see the results  now let's try another feature that the seem collaborative into the Watson assistant which is search in China  we make another question  here you see the results  we finish our day in  thank you for your attention \n"
     ]
    }
   ],
   "source": [
    "from ibm_watson import SpeechToTextV1\n",
    "from ibm_cloud_sdk_core.authenticators import IAMAuthenticator\n",
    "import os\n",
    "from dotenv import load_dotenv\n",
    "load_dotenv()\n",
    "# Set up the Speech to Text service\n",
    "authenticator = IAMAuthenticator(os.getenv(\"API_KEY\"))\n",
    "speech_to_text = SpeechToTextV1(authenticator=authenticator)\n",
    "speech_to_text.set_service_url(os.getenv(\"SERVICE_URL\"))\n",
    "# Define the path to the audio file\n",
    "file_path = \"audio.mp3\"\n",
    "\n",
    "# Convert audio to text\n",
    "with open(file_path, 'rb') as audio_file:\n",
    "    response = speech_to_text.recognize(audio=audio_file, \n",
    "                                        content_type='audio/mp3',\n",
    "                                       #model='it-IT_Multimedia', #language\n",
    "                                       speaker_labels=True, #  speaker\n",
    "                                       inactivity_timeout=-1 # -1  not temporal limit , max 100 MB di upload\n",
    "                                       ).get_result()\n",
    "    transcripts = [result['alternatives'][0]['transcript'] for result in response['results']]\n",
    "    transcript=\" \".join(x for x in transcripts)\n",
    "    print(transcript)"
   ]
  },
  {
   "cell_type": "code",
   "execution_count": 10,
   "id": "65d720de-ea47-492d-8121-6099742a1406",
   "metadata": {},
   "outputs": [],
   "source": []
  },
  {
   "cell_type": "code",
   "execution_count": 15,
   "id": "dd760030-d788-4883-aadd-3e1c7b9835f7",
   "metadata": {},
   "outputs": [
    {
     "name": "stderr",
     "output_type": "stream",
     "text": [
      "Transcribing: 100%|█████████████████████████████████████████████████████████| 19/19 [00:00<?, ?it/s]"
     ]
    },
    {
     "name": "stdout",
     "output_type": "stream",
     "text": [
      "hi everyone and welcome to the what's the next challenge developed by the third Janice Y. X. enjoy team composed of people from IBM T. last I mean kind innovation center and IBM so I kindly ask Michael to describe what the team is now thanks thank you hi everybody what we need there is a talk about that in which IBM the commission can ask a little maintenance DVDs on our technology we deliver the solution was using what's on our system what's on these quality and what's on X. the lady I  the chapel to assist with the implementation giving that I contracted a question  now who's on the stage is your son to give that contract these days and to shore them over the top  hello everyone we are going to show and damage of the integration of what's in the C. stint with what cynics through Watson discovery in these things the child borderlands for technical question using the documentation of the ABN star next D. S. eight thousand the disk on the line  happening the Watson assistant we see three different options answer with Watson Nick's answer with Watson discovery and and serve with search in China let's speak the first option  here in the bottom will ask insert the question does we make our question  the child bought connects with Watson discovery and retrieve their eleven data regarding to the question  and it's shown in the dialogue  after dot  the data is another I sit by the nobility I Watson the X. integration and the results are printed  next the chatbot will request us if we need anything else  I want additional information about another topic but now using Watson discovery on the I. type the question  here  you can see the results  now let's try another feature that the seem collaborative into the Watson assistant which is search in China  we make another question  here you see the results  we finish our day in  thank you for your attention \n"
     ]
    },
    {
     "name": "stderr",
     "output_type": "stream",
     "text": [
      "\n"
     ]
    }
   ],
   "source": [
    "from ibm_watson import SpeechToTextV1\n",
    "from ibm_cloud_sdk_core.authenticators import IAMAuthenticator\n",
    "import os\n",
    "from dotenv import load_dotenv\n",
    "from tqdm import tqdm\n",
    "load_dotenv()\n",
    "# Set up the Speech to Text service\n",
    "authenticator = IAMAuthenticator(os.getenv(\"API_KEY\"))\n",
    "speech_to_text = SpeechToTextV1(authenticator=authenticator)\n",
    "speech_to_text.set_service_url(os.getenv(\"SERVICE_URL\"))\n",
    "# Define the path to the audio file\n",
    "file_path = \"audio.mp3\"\n",
    "\n",
    "# Convert audio to text\n",
    "with open(file_path, 'rb') as audio_file:\n",
    "    response = speech_to_text.recognize(audio=audio_file,\n",
    "                                        content_type='audio/mp3',\n",
    "                                        speaker_labels=True,\n",
    "                                        inactivity_timeout=-1).get_result()\n",
    "\n",
    "    # Get the total number of results\n",
    "    total_results = len(response['results'])\n",
    "\n",
    "    # Create a progress bar using tqdm\n",
    "    progress_bar = tqdm(total=total_results, desc=\"Transcribing\")\n",
    "\n",
    "    transcripts = []\n",
    "    for result in response['results']:\n",
    "        transcripts.append(result['alternatives'][0]['transcript'])\n",
    "        progress_bar.update(1)  # Increment the progress bar\n",
    "\n",
    "    transcript = \" \".join(transcripts)\n",
    "    print(transcript)\n",
    "\n",
    "    progress_bar.close()  # Close the progress bar\n"
   ]
  },
  {
   "cell_type": "code",
   "execution_count": null,
   "id": "40c36673-b9fe-4974-9e37-1be9702e059e",
   "metadata": {},
   "outputs": [],
   "source": []
  }
 ],
 "metadata": {
  "kernelspec": {
   "display_name": "Python 3 (ipykernel)",
   "language": "python",
   "name": "python3"
  },
  "language_info": {
   "codemirror_mode": {
    "name": "ipython",
    "version": 3
   },
   "file_extension": ".py",
   "mimetype": "text/x-python",
   "name": "python",
   "nbconvert_exporter": "python",
   "pygments_lexer": "ipython3",
   "version": "3.10.11"
  }
 },
 "nbformat": 4,
 "nbformat_minor": 5
}
